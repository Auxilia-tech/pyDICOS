{
 "cells": [
  {
   "cell_type": "markdown",
   "id": "06711004-532a-412c-abf5-f88438e1af0d",
   "metadata": {},
   "source": [
    "# pydicos tutorial\n",
    "\n",
    "This notebook will run you through the basic data manipulations available with pydicos. Enjoy !"
   ]
  },
  {
   "cell_type": "markdown",
   "id": "0184579b-3c5e-41db-bf6f-68351bb82e10",
   "metadata": {},
   "source": [
    "## dcs objects\n",
    "\n",
    "DICOS objects in this library can be of 3 types : CT (3D volume), DX (2D image) and TDR (Treat Detection Report). Each object have different specific attributes that will be reviewed below."
   ]
  },
  {
   "cell_type": "markdown",
   "id": "d80c9889-0e72-4137-964a-08004ea309a9",
   "metadata": {},
   "source": [
    "### DX\n",
    "\n",
    "DX are X-Ray images. Let's see how to properly create a DX object and .dcs file from a .png file"
   ]
  },
  {
   "cell_type": "code",
   "execution_count": 1,
   "id": "1712b505-f2b2-4598-8222-31f89c6868ad",
   "metadata": {
    "scrolled": true
   },
   "outputs": [
    {
     "name": "stdout",
     "output_type": "stream",
     "text": [
      "The history saving thread hit an unexpected error (OperationalError('attempt to write a readonly database')).History will not be written to the database.\n"
     ]
    },
    {
     "ename": "ModuleNotFoundError",
     "evalue": "No module named 'pydicos'",
     "output_type": "error",
     "traceback": [
      "\u001b[0;31m---------------------------------------------------------------------------\u001b[0m",
      "\u001b[0;31mModuleNotFoundError\u001b[0m                       Traceback (most recent call last)",
      "Cell \u001b[0;32mIn[1], line 1\u001b[0m\n\u001b[0;32m----> 1\u001b[0m \u001b[38;5;28;01mimport\u001b[39;00m \u001b[38;5;21;01mpydicos\u001b[39;00m\n\u001b[1;32m      2\u001b[0m \u001b[38;5;28;01mimport\u001b[39;00m \u001b[38;5;21;01mpyDICOS\u001b[39;00m\n\u001b[1;32m      3\u001b[0m \u001b[38;5;28;01mimport\u001b[39;00m \u001b[38;5;21;01mcv2\u001b[39;00m\n",
      "\u001b[0;31mModuleNotFoundError\u001b[0m: No module named 'pydicos'"
     ]
    }
   ],
   "source": [
    "import pydicos\n",
    "from pyDICOS import CT, DX, TDR\n",
    "import cv2\n",
    "import numpy as np\n",
    "import skimage.io as io"
   ]
  },
  {
   "cell_type": "code",
   "execution_count": 2,
   "id": "dda6ad1e-cccc-4772-b89b-d3a7620ea9e3",
   "metadata": {},
   "outputs": [
    {
     "ename": "NameError",
     "evalue": "name 'cv2' is not defined",
     "output_type": "error",
     "traceback": [
      "\u001b[0;31m---------------------------------------------------------------------------\u001b[0m",
      "\u001b[0;31mNameError\u001b[0m                                 Traceback (most recent call last)",
      "Cell \u001b[0;32mIn[2], line 2\u001b[0m\n\u001b[1;32m      1\u001b[0m imgpath \u001b[38;5;241m=\u001b[39m \u001b[38;5;124m\"\u001b[39m\u001b[38;5;124msamples/scan.png\u001b[39m\u001b[38;5;124m\"\u001b[39m\n\u001b[0;32m----> 2\u001b[0m img \u001b[38;5;241m=\u001b[39m \u001b[43mcv2\u001b[49m\u001b[38;5;241m.\u001b[39mimread(imgpath, \u001b[38;5;241m-\u001b[39m\u001b[38;5;241m1\u001b[39m)\n",
      "\u001b[0;31mNameError\u001b[0m: name 'cv2' is not defined"
     ]
    }
   ],
   "source": [
    "imgpath = \"samples/xrscan.png\"\n",
    "img = cv2.imread(imgpath, -1)"
   ]
  },
  {
   "cell_type": "code",
   "execution_count": null,
   "id": "5b2c7897-e751-4ef5-b0f7-041850ee81bb",
   "metadata": {},
   "outputs": [],
   "source": [
    "mydx = pydicos.DXLoader(\n",
    "        CT.OBJECT_OF_INSPECTION_TYPE.enumTypeCargo,\n",
    "        DX.PRESENTATION_INTENT_TYPE.enumProcessing,\n",
    "        DX.PIXEL_DATA_CHARACTERISTICS.enumOriginal,\n",
    "        CT.PHOTOMETRIC_INTERPRETATION.enumPaletteColor\n",
    ")\n"
   ]
  },
  {
   "cell_type": "markdown",
   "id": "aa670397-a782-4493-9c08-bf41124d714e",
   "metadata": {},
   "source": [
    "### CT\n",
    "\n",
    "DX are X-Ray computed tomography volumes. Let's see how to properly create a CT object and .dcs file from a .mhd file."
   ]
  },
  {
   "cell_type": "code",
   "execution_count": null,
   "id": "58f6d94f-7202-4b14-a037-e3908ecf7bf8",
   "metadata": {},
   "outputs": [],
   "source": [
    "volpath = \"samples/ctscan.mhd\"\n",
    "vol = cv2.imread(imgpath, -1)"
   ]
  },
  {
   "cell_type": "code",
   "execution_count": null,
   "id": "1bf5e906-584d-42ea-9a00-27884e569c96",
   "metadata": {},
   "outputs": [],
   "source": [
    "img = io.imread('file.mhd', plugin='simpleitk')"
   ]
  },
  {
   "cell_type": "markdown",
   "id": "3e862222-59e7-440b-89ab-b2ff43d5ce77",
   "metadata": {},
   "source": [
    "### TDR\n",
    "\n",
    "DX are detection report objects. Let's see how to properly create a TDR object and .dcs file from a model's detections."
   ]
  },
  {
   "cell_type": "code",
   "execution_count": null,
   "id": "b4e43acc-ff2a-40a8-88c7-a17efe8dac0f",
   "metadata": {},
   "outputs": [],
   "source": []
  }
 ],
 "metadata": {
  "kernelspec": {
   "display_name": "Python 3 (ipykernel)",
   "language": "python",
   "name": "python3"
  },
  "language_info": {
   "codemirror_mode": {
    "name": "ipython",
    "version": 3
   },
   "file_extension": ".py",
   "mimetype": "text/x-python",
   "name": "python",
   "nbconvert_exporter": "python",
   "pygments_lexer": "ipython3",
   "version": "3.9.10"
  }
 },
 "nbformat": 4,
 "nbformat_minor": 5
}
